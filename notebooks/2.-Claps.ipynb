{
 "cells": [
  {
   "cell_type": "markdown",
   "metadata": {},
   "source": [
    "## 1.  Import libraries"
   ]
  },
  {
   "cell_type": "code",
   "execution_count": 1,
   "metadata": {},
   "outputs": [],
   "source": [
    "import pandas as pd\n",
    "from sklearn.model_selection import train_test_split\n",
    "from lightgbm import LGBMRegressor\n",
    "import matplotlib.pyplot as plt\n",
    "from lightgbm import LGBMClassifier\n",
    "from sklearn import metrics\n",
    "from sklearn import tree\n",
    "import seaborn as sn\n",
    "import pickle\n",
    "import shap"
   ]
  },
  {
   "cell_type": "markdown",
   "metadata": {},
   "source": [
    "## 2. Analysis without text features"
   ]
  },
  {
   "cell_type": "code",
   "execution_count": 2,
   "metadata": {},
   "outputs": [
    {
     "data": {
      "text/html": [
       "<div>\n",
       "<style scoped>\n",
       "    .dataframe tbody tr th:only-of-type {\n",
       "        vertical-align: middle;\n",
       "    }\n",
       "\n",
       "    .dataframe tbody tr th {\n",
       "        vertical-align: top;\n",
       "    }\n",
       "\n",
       "    .dataframe thead th {\n",
       "        text-align: right;\n",
       "    }\n",
       "</style>\n",
       "<table border=\"1\" class=\"dataframe\">\n",
       "  <thead>\n",
       "    <tr style=\"text-align: right;\">\n",
       "      <th></th>\n",
       "      <th>Claps</th>\n",
       "      <th>Reading_Time</th>\n",
       "      <th>Images</th>\n",
       "      <th>Links</th>\n",
       "      <th>Code_Chunks</th>\n",
       "      <th>Numbered_Lists</th>\n",
       "      <th>Bullet_Lists</th>\n",
       "      <th>Bolded</th>\n",
       "      <th>Italics</th>\n",
       "      <th>Days_since_publication</th>\n",
       "      <th>...</th>\n",
       "      <th>Label_Machine Learning</th>\n",
       "      <th>Label_Computer Vision</th>\n",
       "      <th>Label_Data Visualization</th>\n",
       "      <th>Label_Bitcoin</th>\n",
       "      <th>Label_Blockchain</th>\n",
       "      <th>Label_Docker</th>\n",
       "      <th>Label_Python</th>\n",
       "      <th>Label_TensorFlow</th>\n",
       "      <th>Label_Data</th>\n",
       "      <th>Label_Cryptocurrency</th>\n",
       "    </tr>\n",
       "  </thead>\n",
       "  <tbody>\n",
       "    <tr>\n",
       "      <th>count</th>\n",
       "      <td>27856.000000</td>\n",
       "      <td>27856.000000</td>\n",
       "      <td>27856.000000</td>\n",
       "      <td>27856.000000</td>\n",
       "      <td>27856.000000</td>\n",
       "      <td>27856.000000</td>\n",
       "      <td>27856.000000</td>\n",
       "      <td>27856.000000</td>\n",
       "      <td>27856.000000</td>\n",
       "      <td>27856.000000</td>\n",
       "      <td>...</td>\n",
       "      <td>27856.000000</td>\n",
       "      <td>27856.000000</td>\n",
       "      <td>27856.000000</td>\n",
       "      <td>27856.000000</td>\n",
       "      <td>27856.000000</td>\n",
       "      <td>27856.000000</td>\n",
       "      <td>27856.000000</td>\n",
       "      <td>27856.000000</td>\n",
       "      <td>27856.000000</td>\n",
       "      <td>27856.000000</td>\n",
       "    </tr>\n",
       "    <tr>\n",
       "      <th>mean</th>\n",
       "      <td>140.025057</td>\n",
       "      <td>6.606153</td>\n",
       "      <td>7.254990</td>\n",
       "      <td>6.714568</td>\n",
       "      <td>3.040027</td>\n",
       "      <td>0.566916</td>\n",
       "      <td>3.341829</td>\n",
       "      <td>29.600840</td>\n",
       "      <td>31.981584</td>\n",
       "      <td>261.879954</td>\n",
       "      <td>...</td>\n",
       "      <td>0.452578</td>\n",
       "      <td>0.027032</td>\n",
       "      <td>0.048069</td>\n",
       "      <td>0.019385</td>\n",
       "      <td>0.026673</td>\n",
       "      <td>0.012529</td>\n",
       "      <td>0.174253</td>\n",
       "      <td>0.023980</td>\n",
       "      <td>0.492820</td>\n",
       "      <td>0.024914</td>\n",
       "    </tr>\n",
       "    <tr>\n",
       "      <th>std</th>\n",
       "      <td>144.325256</td>\n",
       "      <td>3.535831</td>\n",
       "      <td>7.563552</td>\n",
       "      <td>8.986468</td>\n",
       "      <td>6.127053</td>\n",
       "      <td>1.206327</td>\n",
       "      <td>2.939021</td>\n",
       "      <td>57.551885</td>\n",
       "      <td>75.026887</td>\n",
       "      <td>210.522335</td>\n",
       "      <td>...</td>\n",
       "      <td>0.497755</td>\n",
       "      <td>0.162179</td>\n",
       "      <td>0.213915</td>\n",
       "      <td>0.137878</td>\n",
       "      <td>0.161128</td>\n",
       "      <td>0.111230</td>\n",
       "      <td>0.379334</td>\n",
       "      <td>0.152991</td>\n",
       "      <td>0.499957</td>\n",
       "      <td>0.155865</td>\n",
       "    </tr>\n",
       "    <tr>\n",
       "      <th>min</th>\n",
       "      <td>0.000000</td>\n",
       "      <td>1.000000</td>\n",
       "      <td>0.000000</td>\n",
       "      <td>0.000000</td>\n",
       "      <td>0.000000</td>\n",
       "      <td>0.000000</td>\n",
       "      <td>0.000000</td>\n",
       "      <td>0.000000</td>\n",
       "      <td>0.000000</td>\n",
       "      <td>2.000000</td>\n",
       "      <td>...</td>\n",
       "      <td>0.000000</td>\n",
       "      <td>0.000000</td>\n",
       "      <td>0.000000</td>\n",
       "      <td>0.000000</td>\n",
       "      <td>0.000000</td>\n",
       "      <td>0.000000</td>\n",
       "      <td>0.000000</td>\n",
       "      <td>0.000000</td>\n",
       "      <td>0.000000</td>\n",
       "      <td>0.000000</td>\n",
       "    </tr>\n",
       "    <tr>\n",
       "      <th>25%</th>\n",
       "      <td>30.000000</td>\n",
       "      <td>4.000000</td>\n",
       "      <td>2.000000</td>\n",
       "      <td>2.000000</td>\n",
       "      <td>0.000000</td>\n",
       "      <td>0.000000</td>\n",
       "      <td>2.000000</td>\n",
       "      <td>1.000000</td>\n",
       "      <td>0.000000</td>\n",
       "      <td>94.000000</td>\n",
       "      <td>...</td>\n",
       "      <td>0.000000</td>\n",
       "      <td>0.000000</td>\n",
       "      <td>0.000000</td>\n",
       "      <td>0.000000</td>\n",
       "      <td>0.000000</td>\n",
       "      <td>0.000000</td>\n",
       "      <td>0.000000</td>\n",
       "      <td>0.000000</td>\n",
       "      <td>0.000000</td>\n",
       "      <td>0.000000</td>\n",
       "    </tr>\n",
       "    <tr>\n",
       "      <th>50%</th>\n",
       "      <td>90.000000</td>\n",
       "      <td>6.000000</td>\n",
       "      <td>5.000000</td>\n",
       "      <td>4.000000</td>\n",
       "      <td>0.000000</td>\n",
       "      <td>0.000000</td>\n",
       "      <td>2.000000</td>\n",
       "      <td>10.000000</td>\n",
       "      <td>6.000000</td>\n",
       "      <td>206.000000</td>\n",
       "      <td>...</td>\n",
       "      <td>0.000000</td>\n",
       "      <td>0.000000</td>\n",
       "      <td>0.000000</td>\n",
       "      <td>0.000000</td>\n",
       "      <td>0.000000</td>\n",
       "      <td>0.000000</td>\n",
       "      <td>0.000000</td>\n",
       "      <td>0.000000</td>\n",
       "      <td>0.000000</td>\n",
       "      <td>0.000000</td>\n",
       "    </tr>\n",
       "    <tr>\n",
       "      <th>75%</th>\n",
       "      <td>204.000000</td>\n",
       "      <td>8.000000</td>\n",
       "      <td>10.000000</td>\n",
       "      <td>9.000000</td>\n",
       "      <td>4.000000</td>\n",
       "      <td>1.000000</td>\n",
       "      <td>4.000000</td>\n",
       "      <td>34.000000</td>\n",
       "      <td>35.000000</td>\n",
       "      <td>387.000000</td>\n",
       "      <td>...</td>\n",
       "      <td>1.000000</td>\n",
       "      <td>0.000000</td>\n",
       "      <td>0.000000</td>\n",
       "      <td>0.000000</td>\n",
       "      <td>0.000000</td>\n",
       "      <td>0.000000</td>\n",
       "      <td>0.000000</td>\n",
       "      <td>0.000000</td>\n",
       "      <td>1.000000</td>\n",
       "      <td>0.000000</td>\n",
       "    </tr>\n",
       "    <tr>\n",
       "      <th>max</th>\n",
       "      <td>636.000000</td>\n",
       "      <td>71.000000</td>\n",
       "      <td>198.000000</td>\n",
       "      <td>475.000000</td>\n",
       "      <td>135.000000</td>\n",
       "      <td>37.000000</td>\n",
       "      <td>72.000000</td>\n",
       "      <td>2521.000000</td>\n",
       "      <td>2493.000000</td>\n",
       "      <td>1867.000000</td>\n",
       "      <td>...</td>\n",
       "      <td>1.000000</td>\n",
       "      <td>1.000000</td>\n",
       "      <td>1.000000</td>\n",
       "      <td>1.000000</td>\n",
       "      <td>1.000000</td>\n",
       "      <td>1.000000</td>\n",
       "      <td>1.000000</td>\n",
       "      <td>1.000000</td>\n",
       "      <td>1.000000</td>\n",
       "      <td>1.000000</td>\n",
       "    </tr>\n",
       "  </tbody>\n",
       "</table>\n",
       "<p>8 rows × 42 columns</p>\n",
       "</div>"
      ],
      "text/plain": [
       "              Claps  Reading_Time        Images         Links   Code_Chunks  \\\n",
       "count  27856.000000  27856.000000  27856.000000  27856.000000  27856.000000   \n",
       "mean     140.025057      6.606153      7.254990      6.714568      3.040027   \n",
       "std      144.325256      3.535831      7.563552      8.986468      6.127053   \n",
       "min        0.000000      1.000000      0.000000      0.000000      0.000000   \n",
       "25%       30.000000      4.000000      2.000000      2.000000      0.000000   \n",
       "50%       90.000000      6.000000      5.000000      4.000000      0.000000   \n",
       "75%      204.000000      8.000000     10.000000      9.000000      4.000000   \n",
       "max      636.000000     71.000000    198.000000    475.000000    135.000000   \n",
       "\n",
       "       Numbered_Lists  Bullet_Lists        Bolded       Italics  \\\n",
       "count    27856.000000  27856.000000  27856.000000  27856.000000   \n",
       "mean         0.566916      3.341829     29.600840     31.981584   \n",
       "std          1.206327      2.939021     57.551885     75.026887   \n",
       "min          0.000000      0.000000      0.000000      0.000000   \n",
       "25%          0.000000      2.000000      1.000000      0.000000   \n",
       "50%          0.000000      2.000000     10.000000      6.000000   \n",
       "75%          1.000000      4.000000     34.000000     35.000000   \n",
       "max         37.000000     72.000000   2521.000000   2493.000000   \n",
       "\n",
       "       Days_since_publication  ...  Label_Machine Learning  \\\n",
       "count            27856.000000  ...            27856.000000   \n",
       "mean               261.879954  ...                0.452578   \n",
       "std                210.522335  ...                0.497755   \n",
       "min                  2.000000  ...                0.000000   \n",
       "25%                 94.000000  ...                0.000000   \n",
       "50%                206.000000  ...                0.000000   \n",
       "75%                387.000000  ...                1.000000   \n",
       "max               1867.000000  ...                1.000000   \n",
       "\n",
       "       Label_Computer Vision  Label_Data Visualization  Label_Bitcoin  \\\n",
       "count           27856.000000              27856.000000   27856.000000   \n",
       "mean                0.027032                  0.048069       0.019385   \n",
       "std                 0.162179                  0.213915       0.137878   \n",
       "min                 0.000000                  0.000000       0.000000   \n",
       "25%                 0.000000                  0.000000       0.000000   \n",
       "50%                 0.000000                  0.000000       0.000000   \n",
       "75%                 0.000000                  0.000000       0.000000   \n",
       "max                 1.000000                  1.000000       1.000000   \n",
       "\n",
       "       Label_Blockchain  Label_Docker  Label_Python  Label_TensorFlow  \\\n",
       "count      27856.000000  27856.000000  27856.000000      27856.000000   \n",
       "mean           0.026673      0.012529      0.174253          0.023980   \n",
       "std            0.161128      0.111230      0.379334          0.152991   \n",
       "min            0.000000      0.000000      0.000000          0.000000   \n",
       "25%            0.000000      0.000000      0.000000          0.000000   \n",
       "50%            0.000000      0.000000      0.000000          0.000000   \n",
       "75%            0.000000      0.000000      0.000000          0.000000   \n",
       "max            1.000000      1.000000      1.000000          1.000000   \n",
       "\n",
       "         Label_Data  Label_Cryptocurrency  \n",
       "count  27856.000000          27856.000000  \n",
       "mean       0.492820              0.024914  \n",
       "std        0.499957              0.155865  \n",
       "min        0.000000              0.000000  \n",
       "25%        0.000000              0.000000  \n",
       "50%        0.000000              0.000000  \n",
       "75%        1.000000              0.000000  \n",
       "max        1.000000              1.000000  \n",
       "\n",
       "[8 rows x 42 columns]"
      ]
     },
     "execution_count": 2,
     "metadata": {},
     "output_type": "execute_result"
    }
   ],
   "source": [
    "#Prepare dataset \n",
    "df = pd.read_parquet(\"./SINTEXTO.parquet\").reset_index(drop=True)\n",
    "df.drop(columns=['Text', 'Title'], inplace=True)\n",
    "df['Publication'] = df['Publication'].astype('category')\n",
    "df.describe()"
   ]
  },
  {
   "cell_type": "code",
   "execution_count": 3,
   "metadata": {},
   "outputs": [
    {
     "data": {
      "text/plain": [
       "1    13937\n",
       "0    13919\n",
       "Name: claps_RANGE, dtype: int64"
      ]
     },
     "execution_count": 3,
     "metadata": {},
     "output_type": "execute_result"
    }
   ],
   "source": [
    "#Obtain classes \n",
    "q = df['Claps'].quantile(0.5) \n",
    "df['claps_RANGE'] = df['Claps']\n",
    "df['claps_RANGE'] = df['claps_RANGE'].apply(lambda claps: {claps>=q:0, claps<=q:1}.get(True))\n",
    "df['claps_RANGE'].value_counts()"
   ]
  },
  {
   "cell_type": "code",
   "execution_count": 4,
   "metadata": {},
   "outputs": [],
   "source": [
    "#Train/Test\n",
    "FEATURES = list(df.drop(columns=['Claps','claps_RANGE']).columns)\n",
    "TARGET = 'claps_RANGE'\n",
    "X = df[FEATURES]\n",
    "y = df['claps_RANGE']\n",
    "df_train, df_test = train_test_split(df, test_size=0.2)"
   ]
  },
  {
   "cell_type": "code",
   "execution_count": 5,
   "metadata": {},
   "outputs": [
    {
     "name": "stdout",
     "output_type": "stream",
     "text": [
      "AUC:  0.7661974847526403\n"
     ]
    }
   ],
   "source": [
    "#Create Model\n",
    "model = LGBMClassifier(n_estimators=1000, max_depth=7, objective='binary')\n",
    "model.fit(X=df_train[FEATURES], y=df_train[TARGET])\n",
    "y_true = df_test[TARGET]\n",
    "y_scores = model.predict_proba(df_test[FEATURES]) \n",
    "print('AUC: ', metrics.roc_auc_score(y_true.values, y_scores[:,1]))"
   ]
  },
  {
   "cell_type": "code",
   "execution_count": 9,
   "metadata": {},
   "outputs": [
    {
     "name": "stdout",
     "output_type": "stream",
     "text": [
      "Confusion Matrix: \n"
     ]
    },
    {
     "data": {
      "text/plain": [
       "<matplotlib.axes._subplots.AxesSubplot at 0x7f29da4e4350>"
      ]
     },
     "execution_count": 9,
     "metadata": {},
     "output_type": "execute_result"
    },
    {
     "data": {
      "image/png": "[encoded data removed]",
      "text/plain": [
       "<Figure size 288x288 with 2 Axes>"
      ]
     },
     "metadata": {
      "needs_background": "light"
     },
     "output_type": "display_data"
    }
   ],
   "source": [
    "print ('Confusion Matrix: ')\n",
    "df_cm = pd.DataFrame(metrics.confusion_matrix(y_true, model.predict_proba(df_test[FEATURES])[:,1] > 0.5))\n",
    "plt.figure(figsize = (4,4))\n",
    "sn.heatmap(df_cm, annot=True, fmt='d')"
   ]
  },
  {
   "cell_type": "code",
   "execution_count": 10,
   "metadata": {},
   "outputs": [
    {
     "name": "stdout",
     "output_type": "stream",
     "text": [
      "Report : \n",
      "              precision    recall  f1-score   support\n",
      "\n",
      "           0       0.69      0.69      0.69      2828\n",
      "           1       0.68      0.68      0.68      2744\n",
      "\n",
      "    accuracy                           0.69      5572\n",
      "   macro avg       0.69      0.69      0.69      5572\n",
      "weighted avg       0.69      0.69      0.69      5572\n",
      "\n"
     ]
    }
   ],
   "source": [
    "print ('Report : ')\n",
    "print (metrics.classification_report(y_true, model.predict(df_test[FEATURES])))"
   ]
  },
  {
   "cell_type": "code",
   "execution_count": 11,
   "metadata": {},
   "outputs": [
    {
     "data": {
      "text/plain": [
       "<matplotlib.axes._subplots.AxesSubplot at 0x7f29d0debfd0>"
      ]
     },
     "execution_count": 11,
     "metadata": {},
     "output_type": "execute_result"
    },
    {
     "data": {
      "image/png": "[encoded data removed]",
      "text/plain": [
       "<Figure size 432x288 with 1 Axes>"
      ]
     },
     "metadata": {
      "needs_background": "light"
     },
     "output_type": "display_data"
    }
   ],
   "source": [
    "# Features Importance \n",
    "pd.Series(data = model.feature_importances_, index = df_train[FEATURES].columns).nlargest(20).plot.barh()"
   ]
  },
  {
   "cell_type": "code",
   "execution_count": 9,
   "metadata": {},
   "outputs": [],
   "source": [
    "# save the model to disk\n",
    "filename = 'model_NoText.sav'\n",
    "pickle.dump(model, open(filename, 'wb'))"
   ]
  }
 ],
 "metadata": {
  "kernelspec": {
   "display_name": "analytics_env",
   "language": "python",
   "name": "analytics_env"
  },
  "language_info": {
   "codemirror_mode": {
    "name": "ipython",
    "version": 3
   },
   "file_extension": ".py",
   "mimetype": "text/x-python",
   "name": "python",
   "nbconvert_exporter": "python",
   "pygments_lexer": "ipython3",
   "version": "3.8.2"
  }
 },
 "nbformat": 4,
 "nbformat_minor": 4
}
